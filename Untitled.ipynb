{
 "cells": [
  {
   "cell_type": "code",
   "execution_count": 7,
   "id": "49d24a71-da5e-4efe-8185-44ab4ea2b3e7",
   "metadata": {},
   "outputs": [],
   "source": [
    "import pandas as pd\n",
    "from collections import Counter"
   ]
  },
  {
   "cell_type": "code",
   "execution_count": 2,
   "id": "a045da0e-0792-4c91-bb45-7e75ee9dee97",
   "metadata": {},
   "outputs": [],
   "source": [
    "df1 = pd.read_csv('df_carlos_1_vf.csv')\n",
    "df2 = pd.read_csv('df_carlos_2_vf.csv')"
   ]
  },
  {
   "cell_type": "code",
   "execution_count": 19,
   "id": "5640efe1-cc5c-4121-bbf7-77658087d573",
   "metadata": {},
   "outputs": [
    {
     "name": "stdout",
     "output_type": "stream",
     "text": [
      "['sakura filter', 'ito koyama - palieres', 'narva', 'ito koyama - resortes', 'mann - brasil', 'sakura - radiadores', 'wagner - pastillas', 'ito koyama - amortiguadores', 'ishikawa - discos de freno', 'valvoline - usa', 'aisin - japon', 'wagner locked - usa', 'valvoline', 'prestone - mexico', 'ito koyama - direccion', 'ito koyama - trapecios', 'deestone', 'novaquimica - peru', 'denso - bujias - japon', 'versachem - usa', 'prextoline - usa', 'ishikawa - pastillas de freno', 'prextoline - lubricantes', 'rover - usa', 'tkl - taiwan', 'prextoline - grasas']\n",
      "['todos', 'sakura filter', 'ito koyama - palieres', 'narva', 'ito koyama - resortes', 'mann - brasil', 'sakura - radiadores', 'wagner - pastillas', 'ito koyama - amortiguadores', 'ishikawa - discos de freno', 'valvoline - usa', 'aisin - japon', 'wagner locked - usa', 'valvoline', 'prestone - mexico', 'ito koyama - direccion', 'ito koyama - trapecios', 'deestone', 'novaquimica - peru', 'denso - bujias - japon', 'versachem - usa', 'prextoline - usa', 'ishikawa - pastillas de freno', 'prextoline - lubricantes', 'rover - usa', 'tkl - taiwan', 'prextoline - grasas']\n"
     ]
    }
   ],
   "source": [
    "lista1 = list(df1['fuente_suministro'].unique())\n",
    "print(lista1)\n",
    "lista1.insert(0,'todos')\n",
    "print(lista1)\n",
    "str1 = 'todosa'"
   ]
  },
  {
   "cell_type": "code",
   "execution_count": 22,
   "id": "c0e8c82a-8daa-41c4-81f7-eb1d8effe3cb",
   "metadata": {},
   "outputs": [],
   "source": [
    "if str1=='todos':\n",
    "    lista2 = list(df1['sku'].unique())\n",
    "    lista2.insert(0,'todos')\n",
    "else:\n",
    "    lista2 = list(df1[df1['fuente_suministro'] == 'narva']['sku'].unique())\n",
    "    lista2.insert(0,'todos')"
   ]
  },
  {
   "cell_type": "code",
   "execution_count": 24,
   "id": "40557442-b467-40e3-8de1-e3bdefef4842",
   "metadata": {},
   "outputs": [],
   "source": [
    "filtro_1 = 'sakura filter'\n",
    "filtro_2 = 'todos'"
   ]
  },
  {
   "cell_type": "code",
   "execution_count": 25,
   "id": "9e9ffd63-19eb-410c-8f83-5fe95e923682",
   "metadata": {},
   "outputs": [],
   "source": [
    "if filtro_1 == 'todos':\n",
    "    temp1 = df1.copy()\n",
    "else:\n",
    "    temp1 = df1[df1['fuente_suministro']==filtro_1]\n",
    "\n",
    "if filtro_2 == 'todos':\n",
    "    temp2 = temp1.copy()\n",
    "else:\n",
    "    temp2 = df1[df1['sku']==filtro_2]\n",
    "\n",
    "ing_sin = temp2['venta_sin_recomendacion'].sum()\n",
    "ing_con = temp2['venta_con_recomendacion'].sum()\n",
    "ing_inc = (ing_con - ing_sin) / ing_con"
   ]
  },
  {
   "cell_type": "code",
   "execution_count": 34,
   "id": "5ee365f9-9268-41db-9d01-fe80fd90614a",
   "metadata": {},
   "outputs": [
    {
     "data": {
      "text/plain": [
       "1479590.2295389893"
      ]
     },
     "execution_count": 34,
     "metadata": {},
     "output_type": "execute_result"
    }
   ],
   "source": [
    "ing_con"
   ]
  },
  {
   "cell_type": "code",
   "execution_count": 36,
   "id": "5ed02380-5724-48f9-8d6f-b8ffc751b7ae",
   "metadata": {},
   "outputs": [
    {
     "data": {
      "text/plain": [
       "'1,479,590'"
      ]
     },
     "execution_count": 36,
     "metadata": {},
     "output_type": "execute_result"
    }
   ],
   "source": [
    "format(ing_con, ',.0f')"
   ]
  },
  {
   "cell_type": "code",
   "execution_count": 38,
   "id": "f90fedd0-39fd-4de1-aa22-ce58b45e9d95",
   "metadata": {},
   "outputs": [
    {
     "data": {
      "text/plain": [
       "'14.03%'"
      ]
     },
     "execution_count": 38,
     "metadata": {},
     "output_type": "execute_result"
    }
   ],
   "source": [
    "format(ing_inc, '.2%')"
   ]
  },
  {
   "cell_type": "code",
   "execution_count": 42,
   "id": "0bf2edd6-4298-40c5-b58d-68bf0e598c88",
   "metadata": {},
   "outputs": [],
   "source": [
    "import plotly.graph_objs as go\n",
    "import numpy as np"
   ]
  },
  {
   "cell_type": "code",
   "execution_count": 46,
   "id": "9158dba4-4c3a-4d2a-bead-e0f2edccf201",
   "metadata": {},
   "outputs": [
    {
     "data": {
      "text/html": [
       "<div>\n",
       "<style scoped>\n",
       "    .dataframe tbody tr th:only-of-type {\n",
       "        vertical-align: middle;\n",
       "    }\n",
       "\n",
       "    .dataframe tbody tr th {\n",
       "        vertical-align: top;\n",
       "    }\n",
       "\n",
       "    .dataframe thead th {\n",
       "        text-align: right;\n",
       "    }\n",
       "</style>\n",
       "<table border=\"1\" class=\"dataframe\">\n",
       "  <thead>\n",
       "    <tr style=\"text-align: right;\">\n",
       "      <th></th>\n",
       "      <th>fuente_suministro</th>\n",
       "      <th>month</th>\n",
       "      <th>sku</th>\n",
       "      <th>venta_sin_recomendacion</th>\n",
       "      <th>venta_con_recomendacion</th>\n",
       "    </tr>\n",
       "  </thead>\n",
       "  <tbody>\n",
       "    <tr>\n",
       "      <th>0</th>\n",
       "      <td>sakura filter</td>\n",
       "      <td>Jan-24</td>\n",
       "      <td>a-1864</td>\n",
       "      <td>342.0</td>\n",
       "      <td>348.524086</td>\n",
       "    </tr>\n",
       "    <tr>\n",
       "      <th>1</th>\n",
       "      <td>sakura filter</td>\n",
       "      <td>Feb-24</td>\n",
       "      <td>a-1864</td>\n",
       "      <td>373.0</td>\n",
       "      <td>351.240234</td>\n",
       "    </tr>\n",
       "    <tr>\n",
       "      <th>2</th>\n",
       "      <td>sakura filter</td>\n",
       "      <td>Mar-24</td>\n",
       "      <td>a-1864</td>\n",
       "      <td>405.0</td>\n",
       "      <td>417.199722</td>\n",
       "    </tr>\n",
       "    <tr>\n",
       "      <th>3</th>\n",
       "      <td>sakura filter</td>\n",
       "      <td>Apr-24</td>\n",
       "      <td>a-1864</td>\n",
       "      <td>354.0</td>\n",
       "      <td>352.900526</td>\n",
       "    </tr>\n",
       "    <tr>\n",
       "      <th>4</th>\n",
       "      <td>sakura filter</td>\n",
       "      <td>May-24</td>\n",
       "      <td>a-1864</td>\n",
       "      <td>362.0</td>\n",
       "      <td>356.851028</td>\n",
       "    </tr>\n",
       "  </tbody>\n",
       "</table>\n",
       "</div>"
      ],
      "text/plain": [
       "  fuente_suministro   month     sku  venta_sin_recomendacion  \\\n",
       "0     sakura filter  Jan-24  a-1864                    342.0   \n",
       "1     sakura filter  Feb-24  a-1864                    373.0   \n",
       "2     sakura filter  Mar-24  a-1864                    405.0   \n",
       "3     sakura filter  Apr-24  a-1864                    354.0   \n",
       "4     sakura filter  May-24  a-1864                    362.0   \n",
       "\n",
       "   venta_con_recomendacion  \n",
       "0               348.524086  \n",
       "1               351.240234  \n",
       "2               417.199722  \n",
       "3               352.900526  \n",
       "4               356.851028  "
      ]
     },
     "execution_count": 46,
     "metadata": {},
     "output_type": "execute_result"
    }
   ],
   "source": [
    "temp2.head()"
   ]
  },
  {
   "cell_type": "code",
   "execution_count": 53,
   "id": "036d837b-a6fb-4ec0-9baf-aa41521b5e9b",
   "metadata": {},
   "outputs": [
    {
     "data": {
      "text/plain": [
       "month\n",
       "Apr-24    260360.0\n",
       "Feb-24    233162.0\n",
       "Jan-24    244302.0\n",
       "Mar-24    260563.0\n",
       "May-24    273653.0\n",
       "Name: venta_sin_recomendacion, dtype: float64"
      ]
     },
     "execution_count": 53,
     "metadata": {},
     "output_type": "execute_result"
    }
   ],
   "source": [
    "temp2.groupby('month').agg({'venta_sin_recomendacion':'sum'})['venta_sin_recomendacion']"
   ]
  },
  {
   "cell_type": "code",
   "execution_count": 50,
   "id": "d0f23d9d-36f9-481d-b912-41a4c049c284",
   "metadata": {},
   "outputs": [
    {
     "data": {
      "text/plain": [
       "array(['Jan-24', 'Feb-24', 'Mar-24', 'Apr-24', 'May-24'], dtype=object)"
      ]
     },
     "execution_count": 50,
     "metadata": {},
     "output_type": "execute_result"
    }
   ],
   "source": [
    "temp2['month'].unique()"
   ]
  },
  {
   "cell_type": "code",
   "execution_count": 54,
   "id": "22df70d1-c0e2-4c83-8477-7fb38c7ae620",
   "metadata": {},
   "outputs": [
    {
     "data": {
      "application/vnd.plotly.v1+json": {
       "config": {
        "plotlyServerURL": "https://plot.ly"
       },
       "data": [
        {
         "line": {
          "color": "blue"
         },
         "mode": "lines",
         "name": "Ventas sin Recomendacion",
         "type": "scatter",
         "x": [
          "Jan-24",
          "Feb-24",
          "Mar-24",
          "Apr-24",
          "May-24"
         ],
         "y": [
          260360,
          233162,
          244302,
          260563,
          273653
         ]
        },
        {
         "line": {
          "color": "orange"
         },
         "mode": "lines",
         "name": "Ventas con Recomendacion",
         "type": "scatter",
         "x": [
          "Jan-24",
          "Feb-24",
          "Mar-24",
          "Apr-24",
          "May-24"
         ],
         "y": [
          293243.2328764733,
          294066.0475596233,
          300700.558155058,
          290679.54589794786,
          300900.84504988685
         ]
        }
       ],
       "layout": {
        "autosize": true,
        "showlegend": true,
        "template": {
         "data": {
          "bar": [
           {
            "error_x": {
             "color": "#2a3f5f"
            },
            "error_y": {
             "color": "#2a3f5f"
            },
            "marker": {
             "line": {
              "color": "#E5ECF6",
              "width": 0.5
             },
             "pattern": {
              "fillmode": "overlay",
              "size": 10,
              "solidity": 0.2
             }
            },
            "type": "bar"
           }
          ],
          "barpolar": [
           {
            "marker": {
             "line": {
              "color": "#E5ECF6",
              "width": 0.5
             },
             "pattern": {
              "fillmode": "overlay",
              "size": 10,
              "solidity": 0.2
             }
            },
            "type": "barpolar"
           }
          ],
          "carpet": [
           {
            "aaxis": {
             "endlinecolor": "#2a3f5f",
             "gridcolor": "white",
             "linecolor": "white",
             "minorgridcolor": "white",
             "startlinecolor": "#2a3f5f"
            },
            "baxis": {
             "endlinecolor": "#2a3f5f",
             "gridcolor": "white",
             "linecolor": "white",
             "minorgridcolor": "white",
             "startlinecolor": "#2a3f5f"
            },
            "type": "carpet"
           }
          ],
          "choropleth": [
           {
            "colorbar": {
             "outlinewidth": 0,
             "ticks": ""
            },
            "type": "choropleth"
           }
          ],
          "contour": [
           {
            "colorbar": {
             "outlinewidth": 0,
             "ticks": ""
            },
            "colorscale": [
             [
              0,
              "#0d0887"
             ],
             [
              0.1111111111111111,
              "#46039f"
             ],
             [
              0.2222222222222222,
              "#7201a8"
             ],
             [
              0.3333333333333333,
              "#9c179e"
             ],
             [
              0.4444444444444444,
              "#bd3786"
             ],
             [
              0.5555555555555556,
              "#d8576b"
             ],
             [
              0.6666666666666666,
              "#ed7953"
             ],
             [
              0.7777777777777778,
              "#fb9f3a"
             ],
             [
              0.8888888888888888,
              "#fdca26"
             ],
             [
              1,
              "#f0f921"
             ]
            ],
            "type": "contour"
           }
          ],
          "contourcarpet": [
           {
            "colorbar": {
             "outlinewidth": 0,
             "ticks": ""
            },
            "type": "contourcarpet"
           }
          ],
          "heatmap": [
           {
            "colorbar": {
             "outlinewidth": 0,
             "ticks": ""
            },
            "colorscale": [
             [
              0,
              "#0d0887"
             ],
             [
              0.1111111111111111,
              "#46039f"
             ],
             [
              0.2222222222222222,
              "#7201a8"
             ],
             [
              0.3333333333333333,
              "#9c179e"
             ],
             [
              0.4444444444444444,
              "#bd3786"
             ],
             [
              0.5555555555555556,
              "#d8576b"
             ],
             [
              0.6666666666666666,
              "#ed7953"
             ],
             [
              0.7777777777777778,
              "#fb9f3a"
             ],
             [
              0.8888888888888888,
              "#fdca26"
             ],
             [
              1,
              "#f0f921"
             ]
            ],
            "type": "heatmap"
           }
          ],
          "heatmapgl": [
           {
            "colorbar": {
             "outlinewidth": 0,
             "ticks": ""
            },
            "colorscale": [
             [
              0,
              "#0d0887"
             ],
             [
              0.1111111111111111,
              "#46039f"
             ],
             [
              0.2222222222222222,
              "#7201a8"
             ],
             [
              0.3333333333333333,
              "#9c179e"
             ],
             [
              0.4444444444444444,
              "#bd3786"
             ],
             [
              0.5555555555555556,
              "#d8576b"
             ],
             [
              0.6666666666666666,
              "#ed7953"
             ],
             [
              0.7777777777777778,
              "#fb9f3a"
             ],
             [
              0.8888888888888888,
              "#fdca26"
             ],
             [
              1,
              "#f0f921"
             ]
            ],
            "type": "heatmapgl"
           }
          ],
          "histogram": [
           {
            "marker": {
             "pattern": {
              "fillmode": "overlay",
              "size": 10,
              "solidity": 0.2
             }
            },
            "type": "histogram"
           }
          ],
          "histogram2d": [
           {
            "colorbar": {
             "outlinewidth": 0,
             "ticks": ""
            },
            "colorscale": [
             [
              0,
              "#0d0887"
             ],
             [
              0.1111111111111111,
              "#46039f"
             ],
             [
              0.2222222222222222,
              "#7201a8"
             ],
             [
              0.3333333333333333,
              "#9c179e"
             ],
             [
              0.4444444444444444,
              "#bd3786"
             ],
             [
              0.5555555555555556,
              "#d8576b"
             ],
             [
              0.6666666666666666,
              "#ed7953"
             ],
             [
              0.7777777777777778,
              "#fb9f3a"
             ],
             [
              0.8888888888888888,
              "#fdca26"
             ],
             [
              1,
              "#f0f921"
             ]
            ],
            "type": "histogram2d"
           }
          ],
          "histogram2dcontour": [
           {
            "colorbar": {
             "outlinewidth": 0,
             "ticks": ""
            },
            "colorscale": [
             [
              0,
              "#0d0887"
             ],
             [
              0.1111111111111111,
              "#46039f"
             ],
             [
              0.2222222222222222,
              "#7201a8"
             ],
             [
              0.3333333333333333,
              "#9c179e"
             ],
             [
              0.4444444444444444,
              "#bd3786"
             ],
             [
              0.5555555555555556,
              "#d8576b"
             ],
             [
              0.6666666666666666,
              "#ed7953"
             ],
             [
              0.7777777777777778,
              "#fb9f3a"
             ],
             [
              0.8888888888888888,
              "#fdca26"
             ],
             [
              1,
              "#f0f921"
             ]
            ],
            "type": "histogram2dcontour"
           }
          ],
          "mesh3d": [
           {
            "colorbar": {
             "outlinewidth": 0,
             "ticks": ""
            },
            "type": "mesh3d"
           }
          ],
          "parcoords": [
           {
            "line": {
             "colorbar": {
              "outlinewidth": 0,
              "ticks": ""
             }
            },
            "type": "parcoords"
           }
          ],
          "pie": [
           {
            "automargin": true,
            "type": "pie"
           }
          ],
          "scatter": [
           {
            "fillpattern": {
             "fillmode": "overlay",
             "size": 10,
             "solidity": 0.2
            },
            "type": "scatter"
           }
          ],
          "scatter3d": [
           {
            "line": {
             "colorbar": {
              "outlinewidth": 0,
              "ticks": ""
             }
            },
            "marker": {
             "colorbar": {
              "outlinewidth": 0,
              "ticks": ""
             }
            },
            "type": "scatter3d"
           }
          ],
          "scattercarpet": [
           {
            "marker": {
             "colorbar": {
              "outlinewidth": 0,
              "ticks": ""
             }
            },
            "type": "scattercarpet"
           }
          ],
          "scattergeo": [
           {
            "marker": {
             "colorbar": {
              "outlinewidth": 0,
              "ticks": ""
             }
            },
            "type": "scattergeo"
           }
          ],
          "scattergl": [
           {
            "marker": {
             "colorbar": {
              "outlinewidth": 0,
              "ticks": ""
             }
            },
            "type": "scattergl"
           }
          ],
          "scattermapbox": [
           {
            "marker": {
             "colorbar": {
              "outlinewidth": 0,
              "ticks": ""
             }
            },
            "type": "scattermapbox"
           }
          ],
          "scatterpolar": [
           {
            "marker": {
             "colorbar": {
              "outlinewidth": 0,
              "ticks": ""
             }
            },
            "type": "scatterpolar"
           }
          ],
          "scatterpolargl": [
           {
            "marker": {
             "colorbar": {
              "outlinewidth": 0,
              "ticks": ""
             }
            },
            "type": "scatterpolargl"
           }
          ],
          "scatterternary": [
           {
            "marker": {
             "colorbar": {
              "outlinewidth": 0,
              "ticks": ""
             }
            },
            "type": "scatterternary"
           }
          ],
          "surface": [
           {
            "colorbar": {
             "outlinewidth": 0,
             "ticks": ""
            },
            "colorscale": [
             [
              0,
              "#0d0887"
             ],
             [
              0.1111111111111111,
              "#46039f"
             ],
             [
              0.2222222222222222,
              "#7201a8"
             ],
             [
              0.3333333333333333,
              "#9c179e"
             ],
             [
              0.4444444444444444,
              "#bd3786"
             ],
             [
              0.5555555555555556,
              "#d8576b"
             ],
             [
              0.6666666666666666,
              "#ed7953"
             ],
             [
              0.7777777777777778,
              "#fb9f3a"
             ],
             [
              0.8888888888888888,
              "#fdca26"
             ],
             [
              1,
              "#f0f921"
             ]
            ],
            "type": "surface"
           }
          ],
          "table": [
           {
            "cells": {
             "fill": {
              "color": "#EBF0F8"
             },
             "line": {
              "color": "white"
             }
            },
            "header": {
             "fill": {
              "color": "#C8D4E3"
             },
             "line": {
              "color": "white"
             }
            },
            "type": "table"
           }
          ]
         },
         "layout": {
          "annotationdefaults": {
           "arrowcolor": "#2a3f5f",
           "arrowhead": 0,
           "arrowwidth": 1
          },
          "autotypenumbers": "strict",
          "coloraxis": {
           "colorbar": {
            "outlinewidth": 0,
            "ticks": ""
           }
          },
          "colorscale": {
           "diverging": [
            [
             0,
             "#8e0152"
            ],
            [
             0.1,
             "#c51b7d"
            ],
            [
             0.2,
             "#de77ae"
            ],
            [
             0.3,
             "#f1b6da"
            ],
            [
             0.4,
             "#fde0ef"
            ],
            [
             0.5,
             "#f7f7f7"
            ],
            [
             0.6,
             "#e6f5d0"
            ],
            [
             0.7,
             "#b8e186"
            ],
            [
             0.8,
             "#7fbc41"
            ],
            [
             0.9,
             "#4d9221"
            ],
            [
             1,
             "#276419"
            ]
           ],
           "sequential": [
            [
             0,
             "#0d0887"
            ],
            [
             0.1111111111111111,
             "#46039f"
            ],
            [
             0.2222222222222222,
             "#7201a8"
            ],
            [
             0.3333333333333333,
             "#9c179e"
            ],
            [
             0.4444444444444444,
             "#bd3786"
            ],
            [
             0.5555555555555556,
             "#d8576b"
            ],
            [
             0.6666666666666666,
             "#ed7953"
            ],
            [
             0.7777777777777778,
             "#fb9f3a"
            ],
            [
             0.8888888888888888,
             "#fdca26"
            ],
            [
             1,
             "#f0f921"
            ]
           ],
           "sequentialminus": [
            [
             0,
             "#0d0887"
            ],
            [
             0.1111111111111111,
             "#46039f"
            ],
            [
             0.2222222222222222,
             "#7201a8"
            ],
            [
             0.3333333333333333,
             "#9c179e"
            ],
            [
             0.4444444444444444,
             "#bd3786"
            ],
            [
             0.5555555555555556,
             "#d8576b"
            ],
            [
             0.6666666666666666,
             "#ed7953"
            ],
            [
             0.7777777777777778,
             "#fb9f3a"
            ],
            [
             0.8888888888888888,
             "#fdca26"
            ],
            [
             1,
             "#f0f921"
            ]
           ]
          },
          "colorway": [
           "#636efa",
           "#EF553B",
           "#00cc96",
           "#ab63fa",
           "#FFA15A",
           "#19d3f3",
           "#FF6692",
           "#B6E880",
           "#FF97FF",
           "#FECB52"
          ],
          "font": {
           "color": "#2a3f5f"
          },
          "geo": {
           "bgcolor": "white",
           "lakecolor": "white",
           "landcolor": "#E5ECF6",
           "showlakes": true,
           "showland": true,
           "subunitcolor": "white"
          },
          "hoverlabel": {
           "align": "left"
          },
          "hovermode": "closest",
          "mapbox": {
           "style": "light"
          },
          "paper_bgcolor": "white",
          "plot_bgcolor": "#E5ECF6",
          "polar": {
           "angularaxis": {
            "gridcolor": "white",
            "linecolor": "white",
            "ticks": ""
           },
           "bgcolor": "#E5ECF6",
           "radialaxis": {
            "gridcolor": "white",
            "linecolor": "white",
            "ticks": ""
           }
          },
          "scene": {
           "xaxis": {
            "backgroundcolor": "#E5ECF6",
            "gridcolor": "white",
            "gridwidth": 2,
            "linecolor": "white",
            "showbackground": true,
            "ticks": "",
            "zerolinecolor": "white"
           },
           "yaxis": {
            "backgroundcolor": "#E5ECF6",
            "gridcolor": "white",
            "gridwidth": 2,
            "linecolor": "white",
            "showbackground": true,
            "ticks": "",
            "zerolinecolor": "white"
           },
           "zaxis": {
            "backgroundcolor": "#E5ECF6",
            "gridcolor": "white",
            "gridwidth": 2,
            "linecolor": "white",
            "showbackground": true,
            "ticks": "",
            "zerolinecolor": "white"
           }
          },
          "shapedefaults": {
           "line": {
            "color": "#2a3f5f"
           }
          },
          "ternary": {
           "aaxis": {
            "gridcolor": "white",
            "linecolor": "white",
            "ticks": ""
           },
           "baxis": {
            "gridcolor": "white",
            "linecolor": "white",
            "ticks": ""
           },
           "bgcolor": "#E5ECF6",
           "caxis": {
            "gridcolor": "white",
            "linecolor": "white",
            "ticks": ""
           }
          },
          "title": {
           "x": 0.05
          },
          "xaxis": {
           "automargin": true,
           "gridcolor": "white",
           "linecolor": "white",
           "ticks": "",
           "title": {
            "standoff": 15
           },
           "zerolinecolor": "white",
           "zerolinewidth": 2
          },
          "yaxis": {
           "automargin": true,
           "gridcolor": "white",
           "linecolor": "white",
           "ticks": "",
           "title": {
            "standoff": 15
           },
           "zerolinecolor": "white",
           "zerolinewidth": 2
          }
         }
        },
        "title": {
         "text": "Ventas con vs sin recomendacion"
        },
        "xaxis": {
         "autorange": true,
         "range": [
          0,
          4
         ],
         "title": {
          "text": "X"
         },
         "type": "category"
        },
        "yaxis": {
         "autorange": true,
         "range": [
          229398.73083056184,
          304664.114219325
         ],
         "title": {
          "text": "Y"
         },
         "type": "linear"
        }
       }
      },
      "image/png": "[encoded data removed]",
      "text/html": [
       "<div>                            <div id=\"fe7414e0-248f-4e77-bc78-01d6798018a1\" class=\"plotly-graph-div\" style=\"height:525px; width:100%;\"></div>            <script type=\"text/javascript\">                require([\"plotly\"], function(Plotly) {                    window.PLOTLYENV=window.PLOTLYENV || {};                                    if (document.getElementById(\"fe7414e0-248f-4e77-bc78-01d6798018a1\")) {                    Plotly.newPlot(                        \"fe7414e0-248f-4e77-bc78-01d6798018a1\",                        [{\"line\":{\"color\":\"blue\"},\"mode\":\"lines\",\"name\":\"Ventas sin Recomendacion\",\"x\":[\"Jan-24\",\"Feb-24\",\"Mar-24\",\"Apr-24\",\"May-24\"],\"y\":[260360.0,233162.0,244302.0,260563.0,273653.0],\"type\":\"scatter\"},{\"line\":{\"color\":\"orange\"},\"mode\":\"lines\",\"name\":\"Ventas con Recomendacion\",\"x\":[\"Jan-24\",\"Feb-24\",\"Mar-24\",\"Apr-24\",\"May-24\"],\"y\":[293243.2328764733,294066.0475596233,300700.558155058,290679.54589794786,300900.84504988685],\"type\":\"scatter\"}],                        {\"template\":{\"data\":{\"histogram2dcontour\":[{\"type\":\"histogram2dcontour\",\"colorbar\":{\"outlinewidth\":0,\"ticks\":\"\"},\"colorscale\":[[0.0,\"#0d0887\"],[0.1111111111111111,\"#46039f\"],[0.2222222222222222,\"#7201a8\"],[0.3333333333333333,\"#9c179e\"],[0.4444444444444444,\"#bd3786\"],[0.5555555555555556,\"#d8576b\"],[0.6666666666666666,\"#ed7953\"],[0.7777777777777778,\"#fb9f3a\"],[0.8888888888888888,\"#fdca26\"],[1.0,\"#f0f921\"]]}],\"choropleth\":[{\"type\":\"choropleth\",\"colorbar\":{\"outlinewidth\":0,\"ticks\":\"\"}}],\"histogram2d\":[{\"type\":\"histogram2d\",\"colorbar\":{\"outlinewidth\":0,\"ticks\":\"\"},\"colorscale\":[[0.0,\"#0d0887\"],[0.1111111111111111,\"#46039f\"],[0.2222222222222222,\"#7201a8\"],[0.3333333333333333,\"#9c179e\"],[0.4444444444444444,\"#bd3786\"],[0.5555555555555556,\"#d8576b\"],[0.6666666666666666,\"#ed7953\"],[0.7777777777777778,\"#fb9f3a\"],[0.8888888888888888,\"#fdca26\"],[1.0,\"#f0f921\"]]}],\"heatmap\":[{\"type\":\"heatmap\",\"colorbar\":{\"outlinewidth\":0,\"ticks\":\"\"},\"colorscale\":[[0.0,\"#0d0887\"],[0.1111111111111111,\"#46039f\"],[0.2222222222222222,\"#7201a8\"],[0.3333333333333333,\"#9c179e\"],[0.4444444444444444,\"#bd3786\"],[0.5555555555555556,\"#d8576b\"],[0.6666666666666666,\"#ed7953\"],[0.7777777777777778,\"#fb9f3a\"],[0.8888888888888888,\"#fdca26\"],[1.0,\"#f0f921\"]]}],\"heatmapgl\":[{\"type\":\"heatmapgl\",\"colorbar\":{\"outlinewidth\":0,\"ticks\":\"\"},\"colorscale\":[[0.0,\"#0d0887\"],[0.1111111111111111,\"#46039f\"],[0.2222222222222222,\"#7201a8\"],[0.3333333333333333,\"#9c179e\"],[0.4444444444444444,\"#bd3786\"],[0.5555555555555556,\"#d8576b\"],[0.6666666666666666,\"#ed7953\"],[0.7777777777777778,\"#fb9f3a\"],[0.8888888888888888,\"#fdca26\"],[1.0,\"#f0f921\"]]}],\"contourcarpet\":[{\"type\":\"contourcarpet\",\"colorbar\":{\"outlinewidth\":0,\"ticks\":\"\"}}],\"contour\":[{\"type\":\"contour\",\"colorbar\":{\"outlinewidth\":0,\"ticks\":\"\"},\"colorscale\":[[0.0,\"#0d0887\"],[0.1111111111111111,\"#46039f\"],[0.2222222222222222,\"#7201a8\"],[0.3333333333333333,\"#9c179e\"],[0.4444444444444444,\"#bd3786\"],[0.5555555555555556,\"#d8576b\"],[0.6666666666666666,\"#ed7953\"],[0.7777777777777778,\"#fb9f3a\"],[0.8888888888888888,\"#fdca26\"],[1.0,\"#f0f921\"]]}],\"surface\":[{\"type\":\"surface\",\"colorbar\":{\"outlinewidth\":0,\"ticks\":\"\"},\"colorscale\":[[0.0,\"#0d0887\"],[0.1111111111111111,\"#46039f\"],[0.2222222222222222,\"#7201a8\"],[0.3333333333333333,\"#9c179e\"],[0.4444444444444444,\"#bd3786\"],[0.5555555555555556,\"#d8576b\"],[0.6666666666666666,\"#ed7953\"],[0.7777777777777778,\"#fb9f3a\"],[0.8888888888888888,\"#fdca26\"],[1.0,\"#f0f921\"]]}],\"mesh3d\":[{\"type\":\"mesh3d\",\"colorbar\":{\"outlinewidth\":0,\"ticks\":\"\"}}],\"scatter\":[{\"fillpattern\":{\"fillmode\":\"overlay\",\"size\":10,\"solidity\":0.2},\"type\":\"scatter\"}],\"parcoords\":[{\"type\":\"parcoords\",\"line\":{\"colorbar\":{\"outlinewidth\":0,\"ticks\":\"\"}}}],\"scatterpolargl\":[{\"type\":\"scatterpolargl\",\"marker\":{\"colorbar\":{\"outlinewidth\":0,\"ticks\":\"\"}}}],\"bar\":[{\"error_x\":{\"color\":\"#2a3f5f\"},\"error_y\":{\"color\":\"#2a3f5f\"},\"marker\":{\"line\":{\"color\":\"#E5ECF6\",\"width\":0.5},\"pattern\":{\"fillmode\":\"overlay\",\"size\":10,\"solidity\":0.2}},\"type\":\"bar\"}],\"scattergeo\":[{\"type\":\"scattergeo\",\"marker\":{\"colorbar\":{\"outlinewidth\":0,\"ticks\":\"\"}}}],\"scatterpolar\":[{\"type\":\"scatterpolar\",\"marker\":{\"colorbar\":{\"outlinewidth\":0,\"ticks\":\"\"}}}],\"histogram\":[{\"marker\":{\"pattern\":{\"fillmode\":\"overlay\",\"size\":10,\"solidity\":0.2}},\"type\":\"histogram\"}],\"scattergl\":[{\"type\":\"scattergl\",\"marker\":{\"colorbar\":{\"outlinewidth\":0,\"ticks\":\"\"}}}],\"scatter3d\":[{\"type\":\"scatter3d\",\"line\":{\"colorbar\":{\"outlinewidth\":0,\"ticks\":\"\"}},\"marker\":{\"colorbar\":{\"outlinewidth\":0,\"ticks\":\"\"}}}],\"scattermapbox\":[{\"type\":\"scattermapbox\",\"marker\":{\"colorbar\":{\"outlinewidth\":0,\"ticks\":\"\"}}}],\"scatterternary\":[{\"type\":\"scatterternary\",\"marker\":{\"colorbar\":{\"outlinewidth\":0,\"ticks\":\"\"}}}],\"scattercarpet\":[{\"type\":\"scattercarpet\",\"marker\":{\"colorbar\":{\"outlinewidth\":0,\"ticks\":\"\"}}}],\"carpet\":[{\"aaxis\":{\"endlinecolor\":\"#2a3f5f\",\"gridcolor\":\"white\",\"linecolor\":\"white\",\"minorgridcolor\":\"white\",\"startlinecolor\":\"#2a3f5f\"},\"baxis\":{\"endlinecolor\":\"#2a3f5f\",\"gridcolor\":\"white\",\"linecolor\":\"white\",\"minorgridcolor\":\"white\",\"startlinecolor\":\"#2a3f5f\"},\"type\":\"carpet\"}],\"table\":[{\"cells\":{\"fill\":{\"color\":\"#EBF0F8\"},\"line\":{\"color\":\"white\"}},\"header\":{\"fill\":{\"color\":\"#C8D4E3\"},\"line\":{\"color\":\"white\"}},\"type\":\"table\"}],\"barpolar\":[{\"marker\":{\"line\":{\"color\":\"#E5ECF6\",\"width\":0.5},\"pattern\":{\"fillmode\":\"overlay\",\"size\":10,\"solidity\":0.2}},\"type\":\"barpolar\"}],\"pie\":[{\"automargin\":true,\"type\":\"pie\"}]},\"layout\":{\"autotypenumbers\":\"strict\",\"colorway\":[\"#636efa\",\"#EF553B\",\"#00cc96\",\"#ab63fa\",\"#FFA15A\",\"#19d3f3\",\"#FF6692\",\"#B6E880\",\"#FF97FF\",\"#FECB52\"],\"font\":{\"color\":\"#2a3f5f\"},\"hovermode\":\"closest\",\"hoverlabel\":{\"align\":\"left\"},\"paper_bgcolor\":\"white\",\"plot_bgcolor\":\"#E5ECF6\",\"polar\":{\"bgcolor\":\"#E5ECF6\",\"angularaxis\":{\"gridcolor\":\"white\",\"linecolor\":\"white\",\"ticks\":\"\"},\"radialaxis\":{\"gridcolor\":\"white\",\"linecolor\":\"white\",\"ticks\":\"\"}},\"ternary\":{\"bgcolor\":\"#E5ECF6\",\"aaxis\":{\"gridcolor\":\"white\",\"linecolor\":\"white\",\"ticks\":\"\"},\"baxis\":{\"gridcolor\":\"white\",\"linecolor\":\"white\",\"ticks\":\"\"},\"caxis\":{\"gridcolor\":\"white\",\"linecolor\":\"white\",\"ticks\":\"\"}},\"coloraxis\":{\"colorbar\":{\"outlinewidth\":0,\"ticks\":\"\"}},\"colorscale\":{\"sequential\":[[0.0,\"#0d0887\"],[0.1111111111111111,\"#46039f\"],[0.2222222222222222,\"#7201a8\"],[0.3333333333333333,\"#9c179e\"],[0.4444444444444444,\"#bd3786\"],[0.5555555555555556,\"#d8576b\"],[0.6666666666666666,\"#ed7953\"],[0.7777777777777778,\"#fb9f3a\"],[0.8888888888888888,\"#fdca26\"],[1.0,\"#f0f921\"]],\"sequentialminus\":[[0.0,\"#0d0887\"],[0.1111111111111111,\"#46039f\"],[0.2222222222222222,\"#7201a8\"],[0.3333333333333333,\"#9c179e\"],[0.4444444444444444,\"#bd3786\"],[0.5555555555555556,\"#d8576b\"],[0.6666666666666666,\"#ed7953\"],[0.7777777777777778,\"#fb9f3a\"],[0.8888888888888888,\"#fdca26\"],[1.0,\"#f0f921\"]],\"diverging\":[[0,\"#8e0152\"],[0.1,\"#c51b7d\"],[0.2,\"#de77ae\"],[0.3,\"#f1b6da\"],[0.4,\"#fde0ef\"],[0.5,\"#f7f7f7\"],[0.6,\"#e6f5d0\"],[0.7,\"#b8e186\"],[0.8,\"#7fbc41\"],[0.9,\"#4d9221\"],[1,\"#276419\"]]},\"xaxis\":{\"gridcolor\":\"white\",\"linecolor\":\"white\",\"ticks\":\"\",\"title\":{\"standoff\":15},\"zerolinecolor\":\"white\",\"automargin\":true,\"zerolinewidth\":2},\"yaxis\":{\"gridcolor\":\"white\",\"linecolor\":\"white\",\"ticks\":\"\",\"title\":{\"standoff\":15},\"zerolinecolor\":\"white\",\"automargin\":true,\"zerolinewidth\":2},\"scene\":{\"xaxis\":{\"backgroundcolor\":\"#E5ECF6\",\"gridcolor\":\"white\",\"linecolor\":\"white\",\"showbackground\":true,\"ticks\":\"\",\"zerolinecolor\":\"white\",\"gridwidth\":2},\"yaxis\":{\"backgroundcolor\":\"#E5ECF6\",\"gridcolor\":\"white\",\"linecolor\":\"white\",\"showbackground\":true,\"ticks\":\"\",\"zerolinecolor\":\"white\",\"gridwidth\":2},\"zaxis\":{\"backgroundcolor\":\"#E5ECF6\",\"gridcolor\":\"white\",\"linecolor\":\"white\",\"showbackground\":true,\"ticks\":\"\",\"zerolinecolor\":\"white\",\"gridwidth\":2}},\"shapedefaults\":{\"line\":{\"color\":\"#2a3f5f\"}},\"annotationdefaults\":{\"arrowcolor\":\"#2a3f5f\",\"arrowhead\":0,\"arrowwidth\":1},\"geo\":{\"bgcolor\":\"white\",\"landcolor\":\"#E5ECF6\",\"subunitcolor\":\"white\",\"showland\":true,\"showlakes\":true,\"lakecolor\":\"white\"},\"title\":{\"x\":0.05},\"mapbox\":{\"style\":\"light\"}}},\"title\":{\"text\":\"Ventas con vs sin recomendacion\"},\"xaxis\":{\"title\":{\"text\":\"X\"}},\"yaxis\":{\"title\":{\"text\":\"Y\"}},\"showlegend\":true},                        {\"responsive\": true}                    ).then(function(){\n",
       "                            \n",
       "var gd = document.getElementById('fe7414e0-248f-4e77-bc78-01d6798018a1');\n",
       "var x = new MutationObserver(function (mutations, observer) {{\n",
       "        var display = window.getComputedStyle(gd).display;\n",
       "        if (!display || display === 'none') {{\n",
       "            console.log([gd, 'removed!']);\n",
       "            Plotly.purge(gd);\n",
       "            observer.disconnect();\n",
       "        }}\n",
       "}});\n",
       "\n",
       "// Listen for the removal of the full notebook cells\n",
       "var notebookContainer = gd.closest('#notebook-container');\n",
       "if (notebookContainer) {{\n",
       "    x.observe(notebookContainer, {childList: true});\n",
       "}}\n",
       "\n",
       "// Listen for the clearing of the current output cell\n",
       "var outputEl = gd.closest('.output');\n",
       "if (outputEl) {{\n",
       "    x.observe(outputEl, {childList: true});\n",
       "}}\n",
       "\n",
       "                        })                };                });            </script>        </div>"
      ]
     },
     "metadata": {},
     "output_type": "display_data"
    }
   ],
   "source": [
    "x = list(temp2['month'].unique())\n",
    "y1 = temp2.groupby('month').agg({'venta_sin_recomendacion':'sum'})['venta_sin_recomendacion']                # Primera línea (seno)\n",
    "y2 = temp2.groupby('month').agg({'venta_con_recomendacion':'sum'})['venta_con_recomendacion']               # Segunda línea (coseno)\n",
    "\n",
    "# Crear la figura\n",
    "fig = go.Figure()\n",
    "\n",
    "# Añadir las líneas\n",
    "fig.add_trace(go.Scatter(x=x, y=y1, mode='lines', name='Ventas sin Recomendacion', line=dict(color='blue')))\n",
    "fig.add_trace(go.Scatter(x=x, y=y2, mode='lines', name='Ventas con Recomendacion', line=dict(color='orange')))\n",
    "\n",
    "# Personalizar el gráfico\n",
    "fig.update_layout(title='Ventas con vs sin recomendacion',\n",
    "            xaxis_title='X',\n",
    "            yaxis_title='Y',\n",
    "            showlegend=True)"
   ]
  },
  {
   "cell_type": "code",
   "execution_count": 55,
   "id": "79992108-933b-4e19-9908-1ca959edd3c4",
   "metadata": {},
   "outputs": [
    {
     "data": {
      "text/html": [
       "<div>\n",
       "<style scoped>\n",
       "    .dataframe tbody tr th:only-of-type {\n",
       "        vertical-align: middle;\n",
       "    }\n",
       "\n",
       "    .dataframe tbody tr th {\n",
       "        vertical-align: top;\n",
       "    }\n",
       "\n",
       "    .dataframe thead th {\n",
       "        text-align: right;\n",
       "    }\n",
       "</style>\n",
       "<table border=\"1\" class=\"dataframe\">\n",
       "  <thead>\n",
       "    <tr style=\"text-align: right;\">\n",
       "      <th></th>\n",
       "      <th>fuente_suministro</th>\n",
       "      <th>month</th>\n",
       "      <th>sku</th>\n",
       "      <th>venta_sin_recomendacion</th>\n",
       "      <th>venta_con_recomendacion</th>\n",
       "    </tr>\n",
       "  </thead>\n",
       "  <tbody>\n",
       "    <tr>\n",
       "      <th>0</th>\n",
       "      <td>sakura filter</td>\n",
       "      <td>Jan-24</td>\n",
       "      <td>a-1864</td>\n",
       "      <td>342.0</td>\n",
       "      <td>348.524086</td>\n",
       "    </tr>\n",
       "    <tr>\n",
       "      <th>1</th>\n",
       "      <td>sakura filter</td>\n",
       "      <td>Feb-24</td>\n",
       "      <td>a-1864</td>\n",
       "      <td>373.0</td>\n",
       "      <td>351.240234</td>\n",
       "    </tr>\n",
       "    <tr>\n",
       "      <th>2</th>\n",
       "      <td>sakura filter</td>\n",
       "      <td>Mar-24</td>\n",
       "      <td>a-1864</td>\n",
       "      <td>405.0</td>\n",
       "      <td>417.199722</td>\n",
       "    </tr>\n",
       "    <tr>\n",
       "      <th>3</th>\n",
       "      <td>sakura filter</td>\n",
       "      <td>Apr-24</td>\n",
       "      <td>a-1864</td>\n",
       "      <td>354.0</td>\n",
       "      <td>352.900526</td>\n",
       "    </tr>\n",
       "    <tr>\n",
       "      <th>4</th>\n",
       "      <td>sakura filter</td>\n",
       "      <td>May-24</td>\n",
       "      <td>a-1864</td>\n",
       "      <td>362.0</td>\n",
       "      <td>356.851028</td>\n",
       "    </tr>\n",
       "    <tr>\n",
       "      <th>...</th>\n",
       "      <td>...</td>\n",
       "      <td>...</td>\n",
       "      <td>...</td>\n",
       "      <td>...</td>\n",
       "      <td>...</td>\n",
       "    </tr>\n",
       "    <tr>\n",
       "      <th>2425</th>\n",
       "      <td>sakura filter</td>\n",
       "      <td>Jan-24</td>\n",
       "      <td>c-58270</td>\n",
       "      <td>1376.0</td>\n",
       "      <td>1461.965790</td>\n",
       "    </tr>\n",
       "    <tr>\n",
       "      <th>2426</th>\n",
       "      <td>sakura filter</td>\n",
       "      <td>Feb-24</td>\n",
       "      <td>c-58270</td>\n",
       "      <td>1390.0</td>\n",
       "      <td>1515.795639</td>\n",
       "    </tr>\n",
       "    <tr>\n",
       "      <th>2427</th>\n",
       "      <td>sakura filter</td>\n",
       "      <td>Mar-24</td>\n",
       "      <td>c-58270</td>\n",
       "      <td>1348.0</td>\n",
       "      <td>1353.080627</td>\n",
       "    </tr>\n",
       "    <tr>\n",
       "      <th>2428</th>\n",
       "      <td>sakura filter</td>\n",
       "      <td>Apr-24</td>\n",
       "      <td>c-58270</td>\n",
       "      <td>1344.0</td>\n",
       "      <td>1473.538910</td>\n",
       "    </tr>\n",
       "    <tr>\n",
       "      <th>2429</th>\n",
       "      <td>sakura filter</td>\n",
       "      <td>May-24</td>\n",
       "      <td>c-58270</td>\n",
       "      <td>1269.0</td>\n",
       "      <td>1338.896286</td>\n",
       "    </tr>\n",
       "  </tbody>\n",
       "</table>\n",
       "<p>825 rows × 5 columns</p>\n",
       "</div>"
      ],
      "text/plain": [
       "     fuente_suministro   month      sku  venta_sin_recomendacion  \\\n",
       "0        sakura filter  Jan-24   a-1864                    342.0   \n",
       "1        sakura filter  Feb-24   a-1864                    373.0   \n",
       "2        sakura filter  Mar-24   a-1864                    405.0   \n",
       "3        sakura filter  Apr-24   a-1864                    354.0   \n",
       "4        sakura filter  May-24   a-1864                    362.0   \n",
       "...                ...     ...      ...                      ...   \n",
       "2425     sakura filter  Jan-24  c-58270                   1376.0   \n",
       "2426     sakura filter  Feb-24  c-58270                   1390.0   \n",
       "2427     sakura filter  Mar-24  c-58270                   1348.0   \n",
       "2428     sakura filter  Apr-24  c-58270                   1344.0   \n",
       "2429     sakura filter  May-24  c-58270                   1269.0   \n",
       "\n",
       "      venta_con_recomendacion  \n",
       "0                  348.524086  \n",
       "1                  351.240234  \n",
       "2                  417.199722  \n",
       "3                  352.900526  \n",
       "4                  356.851028  \n",
       "...                       ...  \n",
       "2425              1461.965790  \n",
       "2426              1515.795639  \n",
       "2427              1353.080627  \n",
       "2428              1473.538910  \n",
       "2429              1338.896286  \n",
       "\n",
       "[825 rows x 5 columns]"
      ]
     },
     "execution_count": 55,
     "metadata": {},
     "output_type": "execute_result"
    }
   ],
   "source": [
    "temp2"
   ]
  },
  {
   "cell_type": "code",
   "execution_count": 62,
   "id": "c9563e15-7b61-4e41-b7b5-026a58433c38",
   "metadata": {},
   "outputs": [
    {
     "data": {
      "text/plain": [
       "['a-1864',\n",
       " 'eo-11050',\n",
       " 'a-8602-s',\n",
       " 'efg-15010',\n",
       " 'c-1305',\n",
       " 'eo-28090',\n",
       " 'c-1809',\n",
       " 'fc-1702',\n",
       " 'a-1517',\n",
       " 'c-5706',\n",
       " 'a-22380-s',\n",
       " 'a-57270-s',\n",
       " 'c-65400',\n",
       " 'sfc-19140',\n",
       " 'a-33411',\n",
       " 'ca-1114',\n",
       " 'fc-2205',\n",
       " 'a-5025-s',\n",
       " 'ef-1112',\n",
       " 'a-28640',\n",
       " 'eo-2404',\n",
       " 'ef-15130',\n",
       " 'a-5441-s',\n",
       " 'a-5541-s',\n",
       " 'a-13570',\n",
       " 'fc-2904',\n",
       " 'a-5573-s',\n",
       " 'ef-5102',\n",
       " 'c-1823',\n",
       " 'c-1318',\n",
       " 'as-5628-s',\n",
       " 'fc-1807',\n",
       " 'c-1013',\n",
       " 'a-1324-s',\n",
       " 'ca-1112',\n",
       " 'a-69130-s',\n",
       " 'efg-1002',\n",
       " 'a-5301-s',\n",
       " 'f-11112',\n",
       " 'f-17011',\n",
       " 'c-1514',\n",
       " 'a-6706-s',\n",
       " 'ca-11380',\n",
       " 'a-28550',\n",
       " 'sfc-7939-30',\n",
       " 'a-58370',\n",
       " 'c-2505',\n",
       " 'a-7101-s',\n",
       " 'c-1110',\n",
       " 'c-1007',\n",
       " 'ca-18120',\n",
       " 'a-1331-s',\n",
       " 'f-1507',\n",
       " 'fc-2801',\n",
       " '26560143',\n",
       " 'fc-28011',\n",
       " 'ef-1002',\n",
       " 'c-2906',\n",
       " 'ac-7901',\n",
       " 'a-1880',\n",
       " 'a-6304-s',\n",
       " 'c-1122',\n",
       " 'as-5102-s',\n",
       " 'eo-31110',\n",
       " 'fc-5723',\n",
       " 'sf-1307',\n",
       " 'a-1840-s',\n",
       " 'a-5903',\n",
       " 'a-76530-s',\n",
       " 'c-1533',\n",
       " 'a-7620-s',\n",
       " 'as-1825',\n",
       " 'a-5801',\n",
       " 'ef-2636',\n",
       " 'a-1081',\n",
       " 'a-71130-s',\n",
       " 'c-1513',\n",
       " 'a-3301',\n",
       " 'a-6020m',\n",
       " 'c-7971',\n",
       " 'a-83100-s',\n",
       " 'ef-1802',\n",
       " 'c-1147',\n",
       " 'eo-17030',\n",
       " 'c-1121',\n",
       " 'sfc-5304-10',\n",
       " 'a-71260-s',\n",
       " 'fc-1001',\n",
       " 'sfc-7912-30',\n",
       " 'a-5549-s',\n",
       " 'eo-1501',\n",
       " 'a-8506-s',\n",
       " 'sfc-1306-30',\n",
       " 'a-5507-s',\n",
       " 'a-1841-s',\n",
       " 'fs-18290',\n",
       " 'a-6117-s',\n",
       " 'a-28650',\n",
       " 'a-5107-s',\n",
       " 'a-6709-s',\n",
       " 'a-61440',\n",
       " 'a-6038-s',\n",
       " 'a-7124',\n",
       " 'c-5710',\n",
       " 'c-1109',\n",
       " 'sfc-7939-30b',\n",
       " 'a-6207-s',\n",
       " 'fs-4301',\n",
       " 'c-6805',\n",
       " 'c-1328',\n",
       " 'a-5444-s',\n",
       " 'wc-7101',\n",
       " 'a-13530-s',\n",
       " 'a-1876',\n",
       " 'f-1111',\n",
       " 'ca-18280',\n",
       " 'ef-1509',\n",
       " 'eo-2626',\n",
       " 'c-1515',\n",
       " 'a-71420-s',\n",
       " 'fc-1814',\n",
       " 'a-7980',\n",
       " 'a-33740',\n",
       " 'a-6121m-s',\n",
       " 'a-5330-s',\n",
       " 'c-1008',\n",
       " 'c-1011',\n",
       " 'ef-13070',\n",
       " 'a-1088',\n",
       " 'c-38090',\n",
       " 'ef-2634',\n",
       " 'ef-10080',\n",
       " 'a-5570-s',\n",
       " 'a-5558-s',\n",
       " 'a-2709-s',\n",
       " 'c-1814',\n",
       " 'c-1511',\n",
       " 'c-1534',\n",
       " 'a-5331-s',\n",
       " 'ef-1003',\n",
       " 'a-38050-s',\n",
       " 'c-1142',\n",
       " 'fc-1806',\n",
       " 'c-6214',\n",
       " 'a-33410',\n",
       " 'c-2105',\n",
       " 'c-1314',\n",
       " 'a-88230-s',\n",
       " 'c-1160',\n",
       " 'ca-2807',\n",
       " 'sfc-31010-10',\n",
       " 'f-11140',\n",
       " 'a-28690',\n",
       " 'c-5816',\n",
       " 'a-1050',\n",
       " 'fs-19130',\n",
       " 'a-58410-s',\n",
       " 'sfc-55220',\n",
       " 'sf-1911-2',\n",
       " 'ef-18050',\n",
       " 'a-61530',\n",
       " 'a-5801-s',\n",
       " 'eo-2624',\n",
       " 'fc-13210',\n",
       " 'c-58270']"
      ]
     },
     "execution_count": 62,
     "metadata": {},
     "output_type": "execute_result"
    }
   ],
   "source": [
    "lista_skus = list(temp2['sku'].unique())\n",
    "lista_skus"
   ]
  },
  {
   "cell_type": "code",
   "execution_count": 64,
   "id": "6ce45f76-ff9c-4dd5-a0c4-4e566ac254c6",
   "metadata": {},
   "outputs": [],
   "source": [
    "temp_skus = df2[df2['articulo'].isin(lista_skus)].sort_values('index_riesgo')"
   ]
  },
  {
   "cell_type": "code",
   "execution_count": 6,
   "id": "ce561333-091b-49d9-8034-600384f8226c",
   "metadata": {},
   "outputs": [
    {
     "data": {
      "text/html": [
       "<div>\n",
       "<style scoped>\n",
       "    .dataframe tbody tr th:only-of-type {\n",
       "        vertical-align: middle;\n",
       "    }\n",
       "\n",
       "    .dataframe tbody tr th {\n",
       "        vertical-align: top;\n",
       "    }\n",
       "\n",
       "    .dataframe thead th {\n",
       "        text-align: right;\n",
       "    }\n",
       "</style>\n",
       "<table border=\"1\" class=\"dataframe\">\n",
       "  <thead>\n",
       "    <tr style=\"text-align: right;\">\n",
       "      <th></th>\n",
       "      <th>articulo</th>\n",
       "      <th>stock</th>\n",
       "      <th>caa</th>\n",
       "      <th>demanda_mensual</th>\n",
       "      <th>mean_margen</th>\n",
       "      <th>index_riesgo</th>\n",
       "      <th>riesgo</th>\n",
       "    </tr>\n",
       "  </thead>\n",
       "  <tbody>\n",
       "    <tr>\n",
       "      <th>0</th>\n",
       "      <td>a-1864</td>\n",
       "      <td>135.0</td>\n",
       "      <td>356.851028</td>\n",
       "      <td>59.475171</td>\n",
       "      <td>2.191128</td>\n",
       "      <td>2.269855</td>\n",
       "      <td>Verde</td>\n",
       "    </tr>\n",
       "    <tr>\n",
       "      <th>1</th>\n",
       "      <td>to-015</td>\n",
       "      <td>0.0</td>\n",
       "      <td>604.253931</td>\n",
       "      <td>100.708988</td>\n",
       "      <td>0.628244</td>\n",
       "      <td>0.000000</td>\n",
       "      <td>Rojo</td>\n",
       "    </tr>\n",
       "    <tr>\n",
       "      <th>2</th>\n",
       "      <td>48607</td>\n",
       "      <td>36.0</td>\n",
       "      <td>237.295802</td>\n",
       "      <td>59.323950</td>\n",
       "      <td>0.575493</td>\n",
       "      <td>0.606838</td>\n",
       "      <td>Rojo</td>\n",
       "    </tr>\n",
       "    <tr>\n",
       "      <th>3</th>\n",
       "      <td>eo-11050</td>\n",
       "      <td>1324.0</td>\n",
       "      <td>1886.508619</td>\n",
       "      <td>314.418103</td>\n",
       "      <td>1.021089</td>\n",
       "      <td>4.210953</td>\n",
       "      <td>Verde</td>\n",
       "    </tr>\n",
       "    <tr>\n",
       "      <th>4</th>\n",
       "      <td>t010</td>\n",
       "      <td>164.0</td>\n",
       "      <td>669.124218</td>\n",
       "      <td>111.520703</td>\n",
       "      <td>0.860917</td>\n",
       "      <td>1.470579</td>\n",
       "      <td>Amarillo</td>\n",
       "    </tr>\n",
       "  </tbody>\n",
       "</table>\n",
       "</div>"
      ],
      "text/plain": [
       "   articulo   stock          caa  demanda_mensual  mean_margen  index_riesgo  \\\n",
       "0    a-1864   135.0   356.851028        59.475171     2.191128      2.269855   \n",
       "1    to-015     0.0   604.253931       100.708988     0.628244      0.000000   \n",
       "2     48607    36.0   237.295802        59.323950     0.575493      0.606838   \n",
       "3  eo-11050  1324.0  1886.508619       314.418103     1.021089      4.210953   \n",
       "4      t010   164.0   669.124218       111.520703     0.860917      1.470579   \n",
       "\n",
       "     riesgo  \n",
       "0     Verde  \n",
       "1      Rojo  \n",
       "2      Rojo  \n",
       "3     Verde  \n",
       "4  Amarillo  "
      ]
     },
     "execution_count": 6,
     "metadata": {},
     "output_type": "execute_result"
    }
   ],
   "source": [
    "df2.head()"
   ]
  },
  {
   "cell_type": "code",
   "execution_count": 65,
   "id": "a710b68d-6c53-4d8f-824a-e44269bf9bcd",
   "metadata": {},
   "outputs": [
    {
     "data": {
      "text/plain": [
       "riesgo\n",
       "Verde       352\n",
       "Rojo        102\n",
       "Amarillo     33\n",
       "Naranja      10\n",
       "Name: count, dtype: int64"
      ]
     },
     "execution_count": 65,
     "metadata": {},
     "output_type": "execute_result"
    }
   ],
   "source": [
    "df2['riesgo'].value_counts()"
   ]
  },
  {
   "cell_type": "code",
   "execution_count": 9,
   "id": "35e820de-8f94-4b79-9181-b70e344dc8da",
   "metadata": {},
   "outputs": [
    {
     "data": {
      "text/plain": [
       "Counter({True: 497})"
      ]
     },
     "execution_count": 9,
     "metadata": {},
     "output_type": "execute_result"
    }
   ],
   "source": [
    "Counter(df2['articulo'].isin(df1['sku']))"
   ]
  }
 ],
 "metadata": {
  "kernelspec": {
   "display_name": "Python 3 (ipykernel)",
   "language": "python",
   "name": "python3"
  },
  "language_info": {
   "codemirror_mode": {
    "name": "ipython",
    "version": 3
   },
   "file_extension": ".py",
   "mimetype": "text/x-python",
   "name": "python",
   "nbconvert_exporter": "python",
   "pygments_lexer": "ipython3",
   "version": "3.11.9"
  }
 },
 "nbformat": 4,
 "nbformat_minor": 5
}
